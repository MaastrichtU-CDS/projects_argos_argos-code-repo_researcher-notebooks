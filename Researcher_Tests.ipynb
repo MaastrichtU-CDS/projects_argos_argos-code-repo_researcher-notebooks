{
 "cells": [
  {
   "cell_type": "code",
   "execution_count": 1,
   "id": "6139a0c0-b0d5-4d71-a2fc-936878f7ae72",
   "metadata": {},
   "outputs": [],
   "source": [
    "import vantage_authenticate\n",
    "#import argos_test\n",
    "client = vantage_authenticate.authenticate()"
   ]
  },
  {
   "cell_type": "code",
   "execution_count": null,
   "id": "3bf5cc65-6d7a-4c11-bc56-cb66a9c9a675",
   "metadata": {},
   "outputs": [],
   "source": [
    "#argos test hello-world\n",
    "# Submit new task\n",
    "input_ = {\n",
    "    'master': True,\n",
    "    'method':'master'}\n",
    "\n",
    "\n",
    "task = client.task.create(\n",
    "    name=\"ARGOS_DeepLearning\",\n",
    "    description = \"ARGOS\",\n",
    "    image=\"ananyac/clean_containers\",\n",
    "    collaboration=10,\n",
    "    input = input_,\n",
    "    organizations=[2]\n",
    ")"
   ]
  },
  {
   "cell_type": "code",
   "execution_count": 5,
   "id": "fcf7aa23-f8e6-4f96-9f1c-ac0b557fc281",
   "metadata": {},
   "outputs": [],
   "source": [
    "#argos test hello-world\n",
    "# Submit new task\n",
    "input_ = {\n",
    "    'master': True,\n",
    "    'method':'master',\n",
    "    'args':{},\n",
    "    'kwargs':{'org_ids':[13],\n",
    "              'iteration_start':0,              \n",
    "             'max_iteration':1}\n",
    "}\n",
    "\n",
    "task = client.task.create(\n",
    "    name=\"ARGOS_DeepLearning\",\n",
    "    description = \"ARGOS\",\n",
    "    image=\"ananyac/argosdeep:file_transfer\",\n",
    "    collaboration=10,\n",
    "    input = input_,\n",
    "    organizations=[3]\n",
    ")"
   ]
  },
  {
   "cell_type": "code",
   "execution_count": null,
   "id": "31adf549-d298-4e98-bd42-1d1373ae7488",
   "metadata": {},
   "outputs": [],
   "source": []
  }
 ],
 "metadata": {
  "kernelspec": {
   "display_name": "Python 3",
   "language": "python",
   "name": "python3"
  },
  "language_info": {
   "codemirror_mode": {
    "name": "ipython",
    "version": 3
   },
   "file_extension": ".py",
   "mimetype": "text/x-python",
   "name": "python",
   "nbconvert_exporter": "python",
   "pygments_lexer": "ipython3",
   "version": "3.7.5"
  }
 },
 "nbformat": 4,
 "nbformat_minor": 5
}
