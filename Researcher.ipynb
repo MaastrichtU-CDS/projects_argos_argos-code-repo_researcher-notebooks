{
 "cells": [
  {
   "cell_type": "markdown",
   "id": "9c23b77e-ce9e-4868-ab3c-ec0695dcbd85",
   "metadata": {},
   "source": [
    "# <center> ARGOS FEDERATED DEEP LEARNING RESEARCHER </center>"
   ]
  },
  {
   "cell_type": "code",
   "execution_count": 1,
   "id": "258c4579-2a95-4054-bbf2-b631489e977e",
   "metadata": {},
   "outputs": [],
   "source": [
    "import vantage_authenticate\n",
    "#import argos_test"
   ]
  },
  {
   "cell_type": "code",
   "execution_count": 2,
   "id": "4eb64c4e-7a4a-4c9f-8ef5-03ef2e5b088b",
   "metadata": {},
   "outputs": [],
   "source": [
    "client = vantage_authenticate.authenticate()"
   ]
  },
  {
   "cell_type": "code",
   "execution_count": 3,
   "id": "708dba3f-c71b-4bbb-8f04-53bc9d32792b",
   "metadata": {},
   "outputs": [],
   "source": [
    "import os\n",
    "import sys\n",
    "\n",
    "#old_stdout = sys.stdout # backup current stdout\n",
    "#sys.stdout = open(os.devnull, \"w\")\n",
    "\n",
    "organization_details = vantage_authenticate.get_collab(client)\n",
    "\n",
    "#sys.stdout = old_stdout"
   ]
  },
  {
   "cell_type": "code",
   "execution_count": 7,
   "id": "ad16b7ea-7402-4376-9fc7-09522f1482f5",
   "metadata": {},
   "outputs": [
    {
     "data": {
      "text/html": [
       "<div>\n",
       "<style scoped>\n",
       "    .dataframe tbody tr th:only-of-type {\n",
       "        vertical-align: middle;\n",
       "    }\n",
       "\n",
       "    .dataframe tbody tr th {\n",
       "        vertical-align: top;\n",
       "    }\n",
       "\n",
       "    .dataframe thead th {\n",
       "        text-align: right;\n",
       "    }\n",
       "</style>\n",
       "<table border=\"1\" class=\"dataframe\">\n",
       "  <thead>\n",
       "    <tr style=\"text-align: right;\">\n",
       "      <th></th>\n",
       "      <th>organization_id</th>\n",
       "      <th>organization_name</th>\n",
       "      <th>node_id</th>\n",
       "      <th>status</th>\n",
       "      <th>last_seen</th>\n",
       "    </tr>\n",
       "  </thead>\n",
       "  <tbody>\n",
       "    <tr>\n",
       "      <th>0</th>\n",
       "      <td>10</td>\n",
       "      <td>RUMC</td>\n",
       "      <td>23</td>\n",
       "      <td>offline</td>\n",
       "      <td>2022-01-27T12:14:21.795330+00:00</td>\n",
       "    </tr>\n",
       "    <tr>\n",
       "      <th>1</th>\n",
       "      <td>6</td>\n",
       "      <td>Cardiff University</td>\n",
       "      <td>19</td>\n",
       "      <td>offline</td>\n",
       "      <td>2021-11-26T14:59:14.378028+00:00</td>\n",
       "    </tr>\n",
       "    <tr>\n",
       "      <th>2</th>\n",
       "      <td>3</td>\n",
       "      <td>Medical Data Works</td>\n",
       "      <td>16</td>\n",
       "      <td>online</td>\n",
       "      <td>2022-02-08T16:58:17.401615+00:00</td>\n",
       "    </tr>\n",
       "    <tr>\n",
       "      <th>3</th>\n",
       "      <td>3</td>\n",
       "      <td>Medical Data Works</td>\n",
       "      <td>40</td>\n",
       "      <td>offline</td>\n",
       "      <td>None</td>\n",
       "    </tr>\n",
       "    <tr>\n",
       "      <th>4</th>\n",
       "      <td>3</td>\n",
       "      <td>Medical Data Works</td>\n",
       "      <td>5</td>\n",
       "      <td>offline</td>\n",
       "      <td>2022-01-20T15:25:00.932880+00:00</td>\n",
       "    </tr>\n",
       "    <tr>\n",
       "      <th>5</th>\n",
       "      <td>7</td>\n",
       "      <td>Isala</td>\n",
       "      <td>20</td>\n",
       "      <td>offline</td>\n",
       "      <td>2022-01-27T10:25:08.533570+00:00</td>\n",
       "    </tr>\n",
       "    <tr>\n",
       "      <th>6</th>\n",
       "      <td>4</td>\n",
       "      <td>Gemelli</td>\n",
       "      <td>17</td>\n",
       "      <td>offline</td>\n",
       "      <td>2022-01-31T16:12:57.925270+00:00</td>\n",
       "    </tr>\n",
       "    <tr>\n",
       "      <th>7</th>\n",
       "      <td>9</td>\n",
       "      <td>Pennsylvania Medical Centre</td>\n",
       "      <td>22</td>\n",
       "      <td>offline</td>\n",
       "      <td>2022-01-27T14:46:00.020135+00:00</td>\n",
       "    </tr>\n",
       "    <tr>\n",
       "      <th>8</th>\n",
       "      <td>8</td>\n",
       "      <td>MVRCCRI</td>\n",
       "      <td>21</td>\n",
       "      <td>offline</td>\n",
       "      <td>2022-01-27T14:46:00.292402+00:00</td>\n",
       "    </tr>\n",
       "    <tr>\n",
       "      <th>9</th>\n",
       "      <td>16</td>\n",
       "      <td>addenbrookes</td>\n",
       "      <td>35</td>\n",
       "      <td>offline</td>\n",
       "      <td>None</td>\n",
       "    </tr>\n",
       "    <tr>\n",
       "      <th>10</th>\n",
       "      <td>14</td>\n",
       "      <td>nki-avl</td>\n",
       "      <td>33</td>\n",
       "      <td>online</td>\n",
       "      <td>2022-02-08T11:46:21.820033+00:00</td>\n",
       "    </tr>\n",
       "    <tr>\n",
       "      <th>11</th>\n",
       "      <td>12</td>\n",
       "      <td>stjames</td>\n",
       "      <td>31</td>\n",
       "      <td>offline</td>\n",
       "      <td>2022-01-27T14:45:59.834059+00:00</td>\n",
       "    </tr>\n",
       "    <tr>\n",
       "      <th>12</th>\n",
       "      <td>13</td>\n",
       "      <td>kuleuven</td>\n",
       "      <td>32</td>\n",
       "      <td>offline</td>\n",
       "      <td>2022-01-27T14:45:59.795836+00:00</td>\n",
       "    </tr>\n",
       "    <tr>\n",
       "      <th>13</th>\n",
       "      <td>15</td>\n",
       "      <td>sib</td>\n",
       "      <td>34</td>\n",
       "      <td>offline</td>\n",
       "      <td>2022-02-02T14:14:23.656153+00:00</td>\n",
       "    </tr>\n",
       "    <tr>\n",
       "      <th>14</th>\n",
       "      <td>17</td>\n",
       "      <td>Maastro Test 01</td>\n",
       "      <td>37</td>\n",
       "      <td>offline</td>\n",
       "      <td>2022-02-08T16:54:46.791307+00:00</td>\n",
       "    </tr>\n",
       "    <tr>\n",
       "      <th>15</th>\n",
       "      <td>2</td>\n",
       "      <td>Maastro</td>\n",
       "      <td>15</td>\n",
       "      <td>online</td>\n",
       "      <td>2022-02-08T16:58:06.837593+00:00</td>\n",
       "    </tr>\n",
       "    <tr>\n",
       "      <th>16</th>\n",
       "      <td>2</td>\n",
       "      <td>Maastro</td>\n",
       "      <td>4</td>\n",
       "      <td>offline</td>\n",
       "      <td>2022-01-20T15:23:20.199111+00:00</td>\n",
       "    </tr>\n",
       "    <tr>\n",
       "      <th>17</th>\n",
       "      <td>20</td>\n",
       "      <td>Albert Einstein</td>\n",
       "      <td>44</td>\n",
       "      <td>offline</td>\n",
       "      <td>2022-01-26T12:37:39.704965+00:00</td>\n",
       "    </tr>\n",
       "    <tr>\n",
       "      <th>18</th>\n",
       "      <td>5</td>\n",
       "      <td>Tianjin</td>\n",
       "      <td>18</td>\n",
       "      <td>offline</td>\n",
       "      <td>2022-01-27T14:46:00.956703+00:00</td>\n",
       "    </tr>\n",
       "  </tbody>\n",
       "</table>\n",
       "</div>"
      ],
      "text/plain": [
       "    organization_id            organization_name  node_id   status  \\\n",
       "0                10                         RUMC       23  offline   \n",
       "1                 6           Cardiff University       19  offline   \n",
       "2                 3           Medical Data Works       16   online   \n",
       "3                 3           Medical Data Works       40  offline   \n",
       "4                 3           Medical Data Works        5  offline   \n",
       "5                 7                        Isala       20  offline   \n",
       "6                 4                      Gemelli       17  offline   \n",
       "7                 9  Pennsylvania Medical Centre       22  offline   \n",
       "8                 8                      MVRCCRI       21  offline   \n",
       "9                16                 addenbrookes       35  offline   \n",
       "10               14                      nki-avl       33   online   \n",
       "11               12                      stjames       31  offline   \n",
       "12               13                     kuleuven       32  offline   \n",
       "13               15                          sib       34  offline   \n",
       "14               17              Maastro Test 01       37  offline   \n",
       "15                2                      Maastro       15   online   \n",
       "16                2                      Maastro        4  offline   \n",
       "17               20              Albert Einstein       44  offline   \n",
       "18                5                      Tianjin       18  offline   \n",
       "\n",
       "                           last_seen  \n",
       "0   2022-01-27T12:14:21.795330+00:00  \n",
       "1   2021-11-26T14:59:14.378028+00:00  \n",
       "2   2022-02-08T16:58:17.401615+00:00  \n",
       "3                               None  \n",
       "4   2022-01-20T15:25:00.932880+00:00  \n",
       "5   2022-01-27T10:25:08.533570+00:00  \n",
       "6   2022-01-31T16:12:57.925270+00:00  \n",
       "7   2022-01-27T14:46:00.020135+00:00  \n",
       "8   2022-01-27T14:46:00.292402+00:00  \n",
       "9                               None  \n",
       "10  2022-02-08T11:46:21.820033+00:00  \n",
       "11  2022-01-27T14:45:59.834059+00:00  \n",
       "12  2022-01-27T14:45:59.795836+00:00  \n",
       "13  2022-02-02T14:14:23.656153+00:00  \n",
       "14  2022-02-08T16:54:46.791307+00:00  \n",
       "15  2022-02-08T16:58:06.837593+00:00  \n",
       "16  2022-01-20T15:23:20.199111+00:00  \n",
       "17  2022-01-26T12:37:39.704965+00:00  \n",
       "18  2022-01-27T14:46:00.956703+00:00  "
      ]
     },
     "execution_count": 7,
     "metadata": {},
     "output_type": "execute_result"
    }
   ],
   "source": [
    "organization_details #.sort_values('organization_id')"
   ]
  },
  {
   "cell_type": "code",
   "execution_count": 8,
   "id": "ba93e074-fabb-416d-8441-919e79ea4f3b",
   "metadata": {},
   "outputs": [],
   "source": [
    "org_ids = organization_details.query('status == \"online\"')['organization_id'].tolist()\n",
    "org_ids.remove(14)\n",
    "org_ids.remove(3)"
   ]
  },
  {
   "cell_type": "code",
   "execution_count": 9,
   "id": "21f0e796-7202-4eea-b179-05cba1674c24",
   "metadata": {},
   "outputs": [
    {
     "data": {
      "text/plain": [
       "[2]"
      ]
     },
     "execution_count": 9,
     "metadata": {},
     "output_type": "execute_result"
    }
   ],
   "source": [
    "org_ids"
   ]
  },
  {
   "cell_type": "markdown",
   "id": "01de193e-8295-4d7b-a4d5-eb14f8f93da0",
   "metadata": {},
   "source": [
    "### Test Run 1 : Check if all nodes are responding to a hello-world docker"
   ]
  },
  {
   "cell_type": "code",
   "execution_count": 39,
   "id": "69b60ac9-e80a-46dd-9ada-5f08042045a3",
   "metadata": {},
   "outputs": [
    {
     "name": "stdout",
     "output_type": "stream",
     "text": [
      "Making request: GET | https://mdw-vantage6-argos.azurewebsites.net:443/api/organization/14 | None\n",
      "Making request: GET | https://mdw-vantage6-argos.azurewebsites.net:443/api/organization/17 | None\n",
      "Making request: POST | https://mdw-vantage6-argos.azurewebsites.net:443/api/task | None\n"
     ]
    }
   ],
   "source": [
    "#argos test hello-world\n",
    "# Submit new task\n",
    "input_ = {\n",
    "    'master': True,\n",
    "    'method':'master'\n",
    "}\n",
    "\n",
    "task = client.task.create(\n",
    "    name=\"testing\",\n",
    "    description = \"test connection\",\n",
    "    image=\"hello-world\",\n",
    "    collaboration=12,\n",
    "    input = input_,\n",
    "    organizations=org_ids\n",
    ")"
   ]
  },
  {
   "cell_type": "code",
   "execution_count": null,
   "id": "3698fab6-ac90-44b5-8866-634d426269f3",
   "metadata": {},
   "outputs": [],
   "source": [
    "# list down nodes / organization_ids that are not responding\n",
    "#org_ids = some_method_to_retreive_successfull_ids_from_previous_results"
   ]
  },
  {
   "cell_type": "markdown",
   "id": "4e40eb69-9c78-4b29-a160-ce089cd85caf",
   "metadata": {},
   "source": [
    "### Test Run 2: Check if the nodes are responding to a gpu_test docker and fetch number of test and train patients"
   ]
  },
  {
   "cell_type": "code",
   "execution_count": 15,
   "id": "05e850e5-34d5-4ea0-b472-d13181709976",
   "metadata": {},
   "outputs": [],
   "source": [
    "input_ = {\n",
    "    'master': True,\n",
    "    'method':'master',\n",
    "    'args':[],\n",
    "    'kwargs':{\"org_ids\":org_ids} \n",
    "}\n",
    "\n",
    "task = client.task.create(\n",
    "    name=\"testing\",\n",
    "    description = \"test connection\",\n",
    "    image=\"ananyac/argos_gpu_test\",\n",
    "    collaboration=10,\n",
    "    input = input_,\n",
    "    organizations=[3]\n",
    ")"
   ]
  },
  {
   "cell_type": "code",
   "execution_count": 16,
   "id": "e1aacaa7-bbac-4454-9a3b-e66840eea80c",
   "metadata": {},
   "outputs": [
    {
     "data": {
      "text/plain": [
       "{'name': 'testing',\n",
       " 'database': '',\n",
       " 'complete': False,\n",
       " 'image': 'ananyac/argos_gpu_test',\n",
       " 'description': 'test connection',\n",
       " 'initiator': 2,\n",
       " 'collaboration': {'id': 10,\n",
       "  'link': '/api/collaboration/10',\n",
       "  'methods': ['GET', 'DELETE', 'PATCH']},\n",
       " 'id': 924,\n",
       " 'children': None,\n",
       " 'parent': None,\n",
       " 'run_id': 2,\n",
       " 'results': [{'id': 1693,\n",
       "   'link': '/api/result/1693',\n",
       "   'methods': ['GET', 'PATCH']}]}"
      ]
     },
     "execution_count": 16,
     "metadata": {},
     "output_type": "execute_result"
    }
   ],
   "source": [
    "task"
   ]
  },
  {
   "cell_type": "code",
   "execution_count": 17,
   "id": "f03a4a4a-ed70-42ec-9b7d-a53195a8990d",
   "metadata": {},
   "outputs": [
    {
     "data": {
      "text/plain": [
       "{'assigned_at': '2022-02-08T18:21:27.439548+00:00',\n",
       " 'log': \"info > wrapper for gpu_test_node\\ninfo > Reading input file /mnt/data/task-000001694/input\\ninfo > No data format specified. Assuming input data is pickle format\\ninfo > Reading token file '/mnt/data/task-000001694/token'\\ninfo > Using '/mnt/data/database.csv' as database\\ninfo > Dispatching ...\\ninfo > Module 'gpu_test_node' imported!\\ninfo > Running a regular container\\ninfo > Reading token file '/mnt/data/task-000001694/token'\\ninfo > Writing output to /mnt/data/task-000001694/output\\n\",\n",
       " 'organization': {'id': 2,\n",
       "  'link': '/api/organization/2',\n",
       "  'methods': ['GET', 'PATCH']},\n",
       " 'input': b'\\x80\\x03}q\\x00(X\\x06\\x00\\x00\\x00methodq\\x01X\\x08\\x00\\x00\\x00gpu_testq\\x02X\\x04\\x00\\x00\\x00argsq\\x03]q\\x04X\\x06\\x00\\x00\\x00kwargsq\\x05}q\\x06u.',\n",
       " 'result': b'\\x80\\x03}q\\x00(X\\x0f\\x00\\x00\\x00organization_idq\\x01X\\x01\\x00\\x00\\x002q\\x02X\\x07\\x00\\x00\\x00node_idq\\x03X\\x02\\x00\\x00\\x0015q\\x04u.',\n",
       " 'started_at': '2022-02-08T18:21:27.678762+00:00',\n",
       " 'id': 1694,\n",
       " 'task': {'id': 925, 'link': '/api/task/925', 'methods': ['GET', 'DELETE']},\n",
       " 'finished_at': '2022-02-08T18:21:31.197089+00:00'}"
      ]
     },
     "execution_count": 17,
     "metadata": {},
     "output_type": "execute_result"
    }
   ],
   "source": [
    "client.get_results(1694)"
   ]
  },
  {
   "cell_type": "markdown",
   "id": "3d7dda0b-d17d-4182-8aaf-2cf060b7013a",
   "metadata": {},
   "source": [
    "### Test Run 4: Check if the node is responding to a communication test docker "
   ]
  },
  {
   "cell_type": "code",
   "execution_count": null,
   "id": "0c2409c7-7767-44e1-b81d-4bada87a117c",
   "metadata": {},
   "outputs": [],
   "source": [
    "#argos test hello-world\n",
    "# Submit new task\n",
    "input_ = {\n",
    "    'master': True,\n",
    "    'method':'master',\n",
    "    'args':{},\n",
    "    'kwargs':{'org_ids':org_ids}\n",
    "}\n",
    "\n",
    "task = client.task.create(\n",
    "    name=\"testing\",\n",
    "    description = \"test connection\",\n",
    "    image=\"ananyac/argos_skeleton\",\n",
    "    collaboration=12,\n",
    "    input = input_,\n",
    "    organizations=[17]\n",
    ")"
   ]
  },
  {
   "cell_type": "markdown",
   "id": "76b754d7-4d51-4803-acec-47bc982c3681",
   "metadata": {},
   "source": [
    "### Final Deep Learning Run"
   ]
  },
  {
   "cell_type": "code",
   "execution_count": null,
   "id": "89d02f72-c396-4869-be10-a9ccdb9c6597",
   "metadata": {},
   "outputs": [],
   "source": [
    "#argos test hello-world\n",
    "# Submit new task\n",
    "input_ = {\n",
    "    'master': True,\n",
    "    'method':'master',\n",
    "    'args':{},\n",
    "    'kwargs':{'org_ids':org_ids}\n",
    "}\n",
    "\n",
    "task = client.task.create(\n",
    "    name=\"testing\",\n",
    "    description = \"test connection\",\n",
    "    image=\"ananyac/argosfeddeep\",\n",
    "    collaboration=12,\n",
    "    input = input_,\n",
    "    organizations=[17]\n",
    ")"
   ]
  }
 ],
 "metadata": {
  "kernelspec": {
   "display_name": "Python 3",
   "language": "python",
   "name": "python3"
  },
  "language_info": {
   "codemirror_mode": {
    "name": "ipython",
    "version": 3
   },
   "file_extension": ".py",
   "mimetype": "text/x-python",
   "name": "python",
   "nbconvert_exporter": "python",
   "pygments_lexer": "ipython3",
   "version": "3.6.9"
  }
 },
 "nbformat": 4,
 "nbformat_minor": 5
}
