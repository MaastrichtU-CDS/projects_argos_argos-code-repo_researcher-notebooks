{
 "cells": [
  {
   "cell_type": "markdown",
   "id": "9c23b77e-ce9e-4868-ab3c-ec0695dcbd85",
   "metadata": {
    "tags": []
   },
   "source": [
    "# <center> ARGOS FEDERATED DEEP LEARNING RESEARCHER </center>"
   ]
  },
  {
   "cell_type": "code",
   "execution_count": null,
   "id": "258c4579-2a95-4054-bbf2-b631489e977e",
   "metadata": {},
   "outputs": [],
   "source": [
    "import vantage_authenticate\n",
    "#import argos_test"
   ]
  },
  {
   "cell_type": "code",
   "execution_count": null,
   "id": "4eb64c4e-7a4a-4c9f-8ef5-03ef2e5b088b",
   "metadata": {},
   "outputs": [],
   "source": [
    "client = vantage_authenticate.authenticate()"
   ]
  },
  {
   "cell_type": "code",
   "execution_count": null,
   "id": "708dba3f-c71b-4bbb-8f04-53bc9d32792b",
   "metadata": {},
   "outputs": [],
   "source": [
    "import os\n",
    "import sys\n",
    "\n",
    "#old_stdout = sys.stdout # backup current stdout\n",
    "#sys.stdout = open(os.devnull, \"w\")\n",
    "\n",
    "organization_details = vantage_authenticate.get_collab(client)\n",
    "\n",
    "#sys.stdout = old_stdout"
   ]
  },
  {
   "cell_type": "code",
   "execution_count": null,
   "id": "ad16b7ea-7402-4376-9fc7-09522f1482f5",
   "metadata": {},
   "outputs": [],
   "source": [
    "organization_details#.sort_values('organization_id')"
   ]
  },
  {
   "cell_type": "code",
   "execution_count": null,
   "id": "ba93e074-fabb-416d-8441-919e79ea4f3b",
   "metadata": {},
   "outputs": [],
   "source": [
    "org_ids = organization_details.query('status == \"online\"')['organization_id'].tolist()"
   ]
  },
  {
   "cell_type": "code",
   "execution_count": null,
   "id": "2c47b4d2-35c1-4c04-b62e-1bd8d452727c",
   "metadata": {},
   "outputs": [],
   "source": [
    "org_ids = organization_details['organization_id'].tolist()\n",
    "org_ids = list(dict.fromkeys(org_ids))\n",
    "org_ids.remove(3)\n",
    "org_ids.remove(16)\n",
    "\n",
    "org_ids_hello_world = org_ids"
   ]
  },
  {
   "cell_type": "markdown",
   "id": "01de193e-8295-4d7b-a4d5-eb14f8f93da0",
   "metadata": {},
   "source": [
    "### Test Run 1 : Check if all nodes are responding to a hello-world docker"
   ]
  },
  {
   "cell_type": "code",
   "execution_count": null,
   "id": "69b60ac9-e80a-46dd-9ada-5f08042045a3",
   "metadata": {},
   "outputs": [],
   "source": [
    "#argos test hello-world\n",
    "# Submit new task\n",
    "input_ = {\n",
    "    'master': True,\n",
    "    'method':'master'\n",
    "}\n",
    "\n",
    "task = client.task.create(\n",
    "    name=\"testing\",\n",
    "    description = \"test connection\",\n",
    "    image=\"hello-world\",\n",
    "    collaboration=10,\n",
    "    input = input_,\n",
    "    organizations=[13]   \n",
    ")"
   ]
  },
  {
   "cell_type": "code",
   "execution_count": null,
   "id": "ffc49d88-5c5f-47fc-9127-019fe54a149a",
   "metadata": {},
   "outputs": [],
   "source": [
    "org_ids_gpu = []\n",
    "for results in task['results']:\n",
    "    if client.get_results(results['id'])['log'] != None:\n",
    "        print(\"Success     :\",client.get_results(results['id'])['organization']['id'])\n",
    "        org_ids_gpu.append(client.get_results(results['id'])['organization']['id'])\n",
    "    else:\n",
    "        print(\"Fail        :\",client.get_results(results['id'])['organization']['id'])\n",
    "print(org_ids_gpu)"
   ]
  },
  {
   "cell_type": "markdown",
   "id": "4e40eb69-9c78-4b29-a160-ce089cd85caf",
   "metadata": {},
   "source": [
    "### Test Run 2: Check if the nodes are responding to a gpu_test docker and fetch number of test and train patients"
   ]
  },
  {
   "cell_type": "code",
   "execution_count": null,
   "id": "05e850e5-34d5-4ea0-b472-d13181709976",
   "metadata": {},
   "outputs": [],
   "source": [
    "input_ = {\n",
    "    'master': True,\n",
    "    'method':'master',\n",
    "    'args':[],\n",
    "    'kwargs':{\"org_ids\":org_ids_gpu} \n",
    "}\n",
    "\n",
    "task = client.task.create(\n",
    "    name=\"testing\",\n",
    "    description = \"test connection\",\n",
    "    image=\"ananyac/argos_gpu_test\",\n",
    "    collaboration=10,\n",
    "    input = input_,\n",
    "    organizations=[3]\n",
    ")"
   ]
  },
  {
   "cell_type": "code",
   "execution_count": null,
   "id": "75b1cac8-c168-46a1-9305-ccaa00c7fda7",
   "metadata": {},
   "outputs": [],
   "source": [
    "total_train = 0\n",
    "total_validation=0\n",
    "for values in client.result.get(2265)['result']:\n",
    "    total_train=total_train+values['number of training patients']\n",
    "    total_validation = total_validation+values['number of validation patients']\n",
    "\n",
    "print(total_train)\n",
    "print(total_validation)"
   ]
  },
  {
   "cell_type": "markdown",
   "id": "76b754d7-4d51-4803-acec-47bc982c3681",
   "metadata": {},
   "source": [
    "### <center> Final Run : ARGOS Federated Deep Learning Algorithm </center>"
   ]
  },
  {
   "cell_type": "code",
   "execution_count": null,
   "id": "89d02f72-c396-4869-be10-a9ccdb9c6597",
   "metadata": {},
   "outputs": [],
   "source": [
    "#argos test hello-world\n",
    "# Submit new task\n",
    "input_ = {\n",
    "    'master': True,\n",
    "    'method':'master',\n",
    "    'args':{},\n",
    "    'kwargs':{'org_ids':[13],\n",
    "              'iteration_start':0,\n",
    "              'max_iteration':1}\n",
    "}\n",
    "\n",
    "task = client.task.create(\n",
    "    name=\"ARGOS_DeepLearning\",\n",
    "    description = \"ARGOS\",\n",
    "    image=\"ananyac/argosdeep:19May\",\n",
    "    collaboration=10,\n",
    "    input = input_,\n",
    "    organizations=[3]\n",
    ")"
   ]
  },
  {
   "cell_type": "code",
   "execution_count": null,
   "id": "7a986038-3872-4147-a713-dc79315b4e2f",
   "metadata": {},
   "outputs": [],
   "source": []
  }
 ],
 "metadata": {
  "kernelspec": {
   "display_name": "Python 3",
   "language": "python",
   "name": "python3"
  },
  "language_info": {
   "codemirror_mode": {
    "name": "ipython",
    "version": 3
   },
   "file_extension": ".py",
   "mimetype": "text/x-python",
   "name": "python",
   "nbconvert_exporter": "python",
   "pygments_lexer": "ipython3",
   "version": "3.7.5"
  }
 },
 "nbformat": 4,
 "nbformat_minor": 5
}
