{
 "cells": [
  {
   "cell_type": "code",
   "execution_count": 1,
   "id": "6cbaf64e-37e4-47a2-bbcd-5d48a080a3fd",
   "metadata": {},
   "outputs": [],
   "source": [
    "import vantage_authenticate"
   ]
  },
  {
   "cell_type": "code",
   "execution_count": 2,
   "id": "9feb8050-f7b8-4d72-81ed-29dbb7e09f18",
   "metadata": {},
   "outputs": [],
   "source": [
    "client = vantage_authenticate.authenticate()"
   ]
  },
  {
   "cell_type": "code",
   "execution_count": 3,
   "id": "785155e1-7520-46f1-bd2d-b44abefe2ce0",
   "metadata": {},
   "outputs": [],
   "source": [
    "# delete all tasks \n",
    "# Clear the list of tasks (any tasks that cannot be completed will constantly be run otherwise)\n",
    "tasks = client.task.list()\n",
    "for task in tasks:\n",
    "    client.task.delete(id_=task['id'])"
   ]
  },
  {
   "cell_type": "code",
   "execution_count": null,
   "id": "7bd9f3ab-a2f7-4a1d-9728-d434b3b8256a",
   "metadata": {},
   "outputs": [],
   "source": []
  },
  {
   "cell_type": "code",
   "execution_count": null,
   "id": "4de67c8d-da15-47b8-abad-49711a05059a",
   "metadata": {},
   "outputs": [],
   "source": []
  },
  {
   "cell_type": "code",
   "execution_count": null,
   "id": "233331d7-7aee-480b-b57c-0bcc06ebf584",
   "metadata": {},
   "outputs": [],
   "source": []
  },
  {
   "cell_type": "code",
   "execution_count": null,
   "id": "21ce0973-5152-4554-ac26-322836134035",
   "metadata": {},
   "outputs": [],
   "source": []
  }
 ],
 "metadata": {
  "kernelspec": {
   "display_name": "Python 3",
   "language": "python",
   "name": "python3"
  },
  "language_info": {
   "codemirror_mode": {
    "name": "ipython",
    "version": 3
   },
   "file_extension": ".py",
   "mimetype": "text/x-python",
   "name": "python",
   "nbconvert_exporter": "python",
   "pygments_lexer": "ipython3",
   "version": "3.7.5"
  }
 },
 "nbformat": 4,
 "nbformat_minor": 5
}
